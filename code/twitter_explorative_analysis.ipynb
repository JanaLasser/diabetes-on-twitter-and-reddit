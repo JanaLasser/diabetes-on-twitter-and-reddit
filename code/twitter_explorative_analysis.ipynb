{
 "cells": [
  {
   "cell_type": "markdown",
   "id": "70ae105d-10e5-4aa4-9429-6ac003880be4",
   "metadata": {},
   "source": [
    "# Explorative analysis of first data from Twitter"
   ]
  },
  {
   "cell_type": "code",
   "execution_count": 7,
   "id": "b566ff61-562b-4574-a3ff-7f5f3b969690",
   "metadata": {},
   "outputs": [],
   "source": [
    "import pandas as pd\n",
    "from os.path import join\n",
    "import matplotlib.pyplot as plt\n",
    "import numpy as np"
   ]
  },
  {
   "cell_type": "code",
   "execution_count": 8,
   "id": "89acb113-b9a7-4fd5-a5c4-26b4986da8ae",
   "metadata": {},
   "outputs": [],
   "source": [
    "src = '../data'\n",
    "data = pd.read_csv(join(src, 'diagnosed_diabetes_clean.csv'), \n",
    "                   parse_dates=['created_at'])"
   ]
  },
  {
   "cell_type": "code",
   "execution_count": 9,
   "id": "87d4cae1-b24b-4385-94b0-3f4538645085",
   "metadata": {},
   "outputs": [
    {
     "data": {
      "text/plain": [
       "Index(['attachments.media', 'author.created_at', 'author.description',\n",
       "       'author.id', 'author.location', 'author.name',\n",
       "       'author.public_metrics.followers_count',\n",
       "       'author.public_metrics.following_count',\n",
       "       'author.public_metrics.listed_count',\n",
       "       'author.public_metrics.tweet_count', 'author.url', 'author.username',\n",
       "       'author_id', 'context_annotations', 'conversation_id', 'created_at',\n",
       "       'entities.annotations', 'entities.hashtags', 'entities.mentions',\n",
       "       'entities.urls', 'id', 'in_reply_to_user.created_at', 'lang',\n",
       "       'public_metrics.like_count', 'public_metrics.quote_count',\n",
       "       'public_metrics.reply_count', 'public_metrics.retweet_count',\n",
       "       'referenced_tweets', 'source', 'text', 'recent'],\n",
       "      dtype='object')"
      ]
     },
     "execution_count": 9,
     "metadata": {},
     "output_type": "execute_result"
    }
   ],
   "source": [
    "data.columns"
   ]
  },
  {
   "cell_type": "markdown",
   "id": "bf9cb82d-5fe2-482e-a4dc-38cd070b8536",
   "metadata": {},
   "source": [
    "## Data frame content exploration"
   ]
  },
  {
   "cell_type": "markdown",
   "id": "41403096-232e-456e-9a88-6d4ef822e12d",
   "metadata": {},
   "source": [
    "### Hashtags"
   ]
  },
  {
   "cell_type": "code",
   "execution_count": 10,
   "id": "bc1d4835-376d-4fbf-ad0e-3c15bb1c2b59",
   "metadata": {},
   "outputs": [],
   "source": [
    "def extract_hashtags(tagstring):\n",
    "    if tagstring == tagstring:\n",
    "        mod = tagstring[1:-1]\n",
    "        mod = mod.replace('{', '')\n",
    "        mod = mod.replace('\"', '')\n",
    "        mod = mod.replace('start: ', '')\n",
    "        mod = mod.replace('end: ', '')\n",
    "        mod = mod.replace('tag: ', '')\n",
    "        mod = mod.split('}, ')\n",
    "        dicts = [{'start':int(m.split(', ')[0]), 'end':int(m.split(', ')[1]),\n",
    "                  'tag':m.split(', ')[2].replace('}', '')} for m in mod]\n",
    "        return dicts\n",
    "    else:\n",
    "        return np.nan"
   ]
  },
  {
   "cell_type": "code",
   "execution_count": 11,
   "id": "ad6c2a75-09d0-4644-b525-406276152cd9",
   "metadata": {},
   "outputs": [],
   "source": [
    "data['split_hashtags'] = data['entities.hashtags'].apply(extract_hashtags)"
   ]
  },
  {
   "cell_type": "code",
   "execution_count": 13,
   "id": "07323867-bd00-456c-a744-f79a9677d84e",
   "metadata": {},
   "outputs": [],
   "source": [
    "hashtags = pd.DataFrame()\n",
    "for i, row in data[['author.username', 'split_hashtags']].iterrows():\n",
    "    lst = row['split_hashtags']\n",
    "    if lst == lst:\n",
    "        for dct in lst:\n",
    "            hashtags = hashtags.append({\n",
    "                'user':row['author.username'],\n",
    "                'hashtag':dct['tag']}, ignore_index=True)\n",
    "            \n",
    "    if row['author.username'] == 'zenjar':\n",
    "        break"
   ]
  },
  {
   "cell_type": "code",
   "execution_count": 14,
   "id": "288830f8-4792-435f-a406-4c1a03afe182",
   "metadata": {},
   "outputs": [
    {
     "data": {
      "text/plain": [
       "hashtag\n",
       "diabetes             6\n",
       "Diabetes             3\n",
       "portion              2\n",
       "limit                2\n",
       "mealprep             2\n",
       "nutrition            2\n",
       "Serving              2\n",
       "kidney               2\n",
       "sugar                2\n",
       "dietitian            2\n",
       "HoHoHellNo           2\n",
       "HeartHealth          2\n",
       "weightlossjourney    2\n",
       "Choice               2\n",
       "cookies              2\n",
       "ketogenic            1\n",
       "ketogenicdiet        1\n",
       "ketolife             1\n",
       "ketorecipes          1\n",
       "ketodietplan         1\n",
       "dtype: int64"
      ]
     },
     "execution_count": 14,
     "metadata": {},
     "output_type": "execute_result"
    }
   ],
   "source": [
    "hashtags.value_counts('hashtag')[0:20]"
   ]
  },
  {
   "cell_type": "markdown",
   "id": "ac0756b4-576d-4e3c-ac4a-33399a08020f",
   "metadata": {},
   "source": [
    "### Locations"
   ]
  },
  {
   "cell_type": "code",
   "execution_count": 15,
   "id": "2c78041f-6468-43eb-92a1-d680b52c0a4a",
   "metadata": {},
   "outputs": [
    {
     "name": "stdout",
     "output_type": "stream",
     "text": [
      "131 users have provided a location\n"
     ]
    }
   ],
   "source": [
    "print('{} users have provided a location'\\\n",
    "      .format(len(data.dropna(subset=['author.location']))))"
   ]
  },
  {
   "cell_type": "code",
   "execution_count": 16,
   "id": "1b77b192-0bff-4c15-909d-f0ac4c22501a",
   "metadata": {},
   "outputs": [
    {
     "data": {
      "text/plain": [
       "Texas               6\n",
       "Jacksonville, FL    4\n",
       "Omaha, NE           3\n",
       "California          3\n",
       "USA                 3\n",
       "Georgia, USA        3\n",
       "Los Angeles Area    2\n",
       "Seattle             2\n",
       "San Antonio, TX     2\n",
       "UK                  2\n",
       "London              2\n",
       "Orlando             1\n",
       "Palo Alto, CA       1\n",
       "Apopka, FL          1\n",
       "Sydney, AU          1\n",
       "Name: author.location, dtype: int64"
      ]
     },
     "execution_count": 16,
     "metadata": {},
     "output_type": "execute_result"
    }
   ],
   "source": [
    "data['author.location'].value_counts()[0:15]"
   ]
  },
  {
   "cell_type": "markdown",
   "id": "b6883dc1-8e6f-4189-b6e9-132bd12dcec8",
   "metadata": {},
   "source": [
    "### Followers"
   ]
  },
  {
   "cell_type": "code",
   "execution_count": 17,
   "id": "72c9be4c-c352-436a-a544-069873d90363",
   "metadata": {},
   "outputs": [],
   "source": [
    "def bracketize_followers(fls):\n",
    "    if fls <= 100:\n",
    "        return '0-100'\n",
    "    elif fls <= 500:\n",
    "        return '101-500'\n",
    "    elif fls <= 1000:\n",
    "        return '501-1000'\n",
    "    elif fls <= 2000:\n",
    "        return '1001-2000'\n",
    "    elif fls <= 3000:\n",
    "        return '2001-3000'\n",
    "    elif fls <= 4000:\n",
    "        return '4001-5000'\n",
    "    elif fls <= 7500:\n",
    "        return '5001-7500'\n",
    "    elif fls <= 10000:\n",
    "        return '7501-10000'\n",
    "    else:\n",
    "        return '>10000'"
   ]
  },
  {
   "cell_type": "code",
   "execution_count": 18,
   "id": "c67c6e5f-02bc-442a-832b-382a4b994ffe",
   "metadata": {},
   "outputs": [],
   "source": [
    "follower_categories = [\"0-100\",\"101-500\",\"501-1000\",\"1001-2000\",\"2001-3000\",\n",
    "                \"3001-4000\",\"4001-5000\",\"5001-7500\",\"7501-10000\",\">10000\"]\n",
    "data['followers'] = data['author.public_metrics.followers_count']\\\n",
    "    .apply(bracketize_followers)\n",
    "data['followers'] = pd.Categorical(data['followers'],\n",
    "                                categories=follower_categories, ordered=True)"
   ]
  },
  {
   "cell_type": "code",
   "execution_count": 19,
   "id": "9173fd88-1674-4222-a64e-243ac73bbf30",
   "metadata": {},
   "outputs": [
    {
     "data": {
      "image/png": "[encoded data removed]",
      "text/plain": [
       "<Figure size 864x432 with 1 Axes>"
      ]
     },
     "metadata": {
      "needs_background": "light"
     },
     "output_type": "display_data"
    }
   ],
   "source": [
    "fig, ax = plt.subplots(figsize=(12,6))\n",
    "\n",
    "ax.bar(data['followers'].value_counts().sort_index().index, \n",
    "       data['followers'].value_counts().sort_index().values)\n",
    "ax.set_ylabel('count', fontsize=16)\n",
    "ax.set_xlabel('followers', fontsize=16)\n",
    "ax.set_title('number of followers per user', fontsize=20)\n",
    "ax.spines['right'].set_visible(False)\n",
    "ax.spines['top'].set_visible(False)\n",
    "plt.savefig('../plots/number_of_followers_per_user.pdf')"
   ]
  },
  {
   "cell_type": "markdown",
   "id": "0491b277-77fb-45f0-a9ab-5424f32226ff",
   "metadata": {},
   "source": [
    "## Tweet frequency"
   ]
  },
  {
   "cell_type": "code",
   "execution_count": 20,
   "id": "cd4fdb75-0db8-4838-8a20-273bb8dde37c",
   "metadata": {},
   "outputs": [],
   "source": [
    "data['created_at_date'] = data['created_at'].dt.date\n",
    "data['created_at_year'] = data['created_at'].dt.year"
   ]
  },
  {
   "cell_type": "code",
   "execution_count": 21,
   "id": "597055d9-5745-4256-bdf9-1152a1f8ad04",
   "metadata": {},
   "outputs": [],
   "source": [
    "yearly_tweet_count = data[['id', 'created_at_year']]\\\n",
    "    .groupby('created_at_year')\\\n",
    "    .count()\\\n",
    "    .rename(columns={'id':'count'})"
   ]
  },
  {
   "cell_type": "code",
   "execution_count": 22,
   "id": "9d9262d1-4b2f-426e-912b-6833323ce4cf",
   "metadata": {},
   "outputs": [
    {
     "data": {
      "image/png": "[encoded data removed]",
      "text/plain": [
       "<Figure size 864x432 with 1 Axes>"
      ]
     },
     "metadata": {
      "needs_background": "light"
     },
     "output_type": "display_data"
    }
   ],
   "source": [
    "fig, ax = plt.subplots(figsize=(12,6))\n",
    "ax.bar(yearly_tweet_count.index, yearly_tweet_count['count'])\n",
    "ax.set_ylabel('tweet count', fontsize=20)\n",
    "ax.set_xlabel('year', fontsize=20)\n",
    "ax.spines['right'].set_visible(False)\n",
    "ax.spines['top'].set_visible(False)\n",
    "ax.set_title('Frequency of \"just diagnosed with diabetes\" Tweets', fontsize=20)\n",
    "plt.savefig('../plots/frequency_of_just_diagnosed_with_diabetes_tweets.pdf')"
   ]
  },
  {
   "cell_type": "markdown",
   "id": "0c638162-940e-4a9e-85df-fcd9fe169cec",
   "metadata": {},
   "source": [
    "## Users"
   ]
  },
  {
   "cell_type": "code",
   "execution_count": 23,
   "id": "88a13993-2132-4cc0-a8ed-dd5b65f53c83",
   "metadata": {},
   "outputs": [
    {
     "data": {
      "text/plain": [
       "224"
      ]
     },
     "execution_count": 23,
     "metadata": {},
     "output_type": "execute_result"
    }
   ],
   "source": [
    "len(data)"
   ]
  },
  {
   "cell_type": "code",
   "execution_count": 24,
   "id": "96a05ef4-d544-409b-b65b-57ff85c18cbf",
   "metadata": {},
   "outputs": [
    {
     "name": "stdout",
     "output_type": "stream",
     "text": [
      "there are 175 unique users in the dataset\n"
     ]
    }
   ],
   "source": [
    "N_users = len(data['author.id'].unique())\n",
    "print('there are {} unique users in the dataset'.format(N_users))"
   ]
  },
  {
   "cell_type": "markdown",
   "id": "1eea5f2d-cea7-4406-bcb4-191a57098362",
   "metadata": {},
   "source": [
    "### Diagnosis dates"
   ]
  },
  {
   "cell_type": "code",
   "execution_count": 27,
   "id": "0afec183-ae5c-40d9-a37b-f47094f29741",
   "metadata": {},
   "outputs": [],
   "source": [
    "diagnosis_dates = data[['author.id', 'author.username', 'created_at_date', 'created_at', 'id']]\\\n",
    "    .sort_values(by=['author.id', 'created_at_date'])\\\n",
    "    .reset_index(drop=True)\\\n",
    "    .drop_duplicates(subset=['author.id'])\n",
    "diagnosis_dates.to_csv(join(src, 'twitter_user_diagnosis_dates.csv'), index=False)"
   ]
  }
 ],
 "metadata": {
  "kernelspec": {
   "display_name": "Python 3",
   "language": "python",
   "name": "python3"
  },
  "language_info": {
   "codemirror_mode": {
    "name": "ipython",
    "version": 3
   },
   "file_extension": ".py",
   "mimetype": "text/x-python",
   "name": "python",
   "nbconvert_exporter": "python",
   "pygments_lexer": "ipython3",
   "version": "3.9.5"
  }
 },
 "nbformat": 4,
 "nbformat_minor": 5
}
