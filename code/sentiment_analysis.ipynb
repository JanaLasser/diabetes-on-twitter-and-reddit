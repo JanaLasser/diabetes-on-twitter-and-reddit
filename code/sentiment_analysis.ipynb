{
 "cells": [
  {
   "cell_type": "markdown",
   "id": "b0dd0328-0ecd-4955-861e-ede2198ae28b",
   "metadata": {},
   "source": [
    "# Timeline analysis of sentiment"
   ]
  },
  {
   "cell_type": "code",
   "execution_count": 2,
   "id": "bc90964b-c675-4b93-8613-8cfd300a6b80",
   "metadata": {},
   "outputs": [],
   "source": [
    "import pandas as pd\n",
    "import matplotlib.pyplot as plt\n",
    "from os.path import join\n",
    "import numpy as np"
   ]
  },
  {
   "cell_type": "code",
   "execution_count": 3,
   "id": "e80e28a7-5251-455b-bd8d-4365f7246110",
   "metadata": {},
   "outputs": [],
   "source": [
    "src = '../data'"
   ]
  },
  {
   "cell_type": "code",
   "execution_count": 4,
   "id": "f20fb40d-96ff-4b06-be39-14f125f35cf2",
   "metadata": {},
   "outputs": [],
   "source": [
    "twitter_sentiment = pd.read_csv(join(src, 'twitter_sentiment_analysis.csv'), \\\n",
    "        usecols=['tweet_id', 'sentiment_polarity', 'sentiment_subjectivity'])\n",
    "reddit_sentiment = pd.read_csv(join(src, 'reddit_sentiment_analysis.csv'), \\\n",
    "        usecols=['sentiment_polarity', 'sentiment_subjectivity', 'id'])"
   ]
  },
  {
   "cell_type": "code",
   "execution_count": 5,
   "id": "4e375fad-477f-4e24-9b3f-97e4fceb8cc4",
   "metadata": {},
   "outputs": [],
   "source": [
    "twitter_sentiment = twitter_sentiment.rename(columns={'tweet_id':'id'})\n",
    "twitter_sentiment = twitter_sentiment.set_index('id')\n",
    "reddit_sentiment = reddit_sentiment.set_index('id')"
   ]
  },
  {
   "cell_type": "code",
   "execution_count": 6,
   "id": "2c5b8969-e1c2-45dd-81a5-6a44dae42358",
   "metadata": {},
   "outputs": [
    {
     "name": "stderr",
     "output_type": "stream",
     "text": [
      "/home/jana/anaconda3/envs/misinfo/lib/python3.9/site-packages/IPython/core/interactiveshell.py:3165: DtypeWarning: Columns (1,3,10,12,16,25) have mixed types.Specify dtype option on import or set low_memory=False.\n",
      "  has_raised = await self.run_ast_nodes(code_ast.body, cell_name,\n",
      "/home/jana/anaconda3/envs/misinfo/lib/python3.9/site-packages/IPython/core/interactiveshell.py:3165: DtypeWarning: Columns (0,1,3,5,6,8,9,11,12,13,18,20,22,23,25,28,29,34,36,37,38,41,42,43,45,49,50,51,52,54,55,57) have mixed types.Specify dtype option on import or set low_memory=False.\n",
      "  has_raised = await self.run_ast_nodes(code_ast.body, cell_name,\n"
     ]
    }
   ],
   "source": [
    "twitter = pd.read_csv(join(src, 'twitter_user_timelines_clean.csv'), parse_dates = ['created_at'])\n",
    "reddit = pd.read_csv(join(src, 'reddit_user_comments.csv'))\n",
    "reddit['created_at'] = pd.to_datetime(reddit['created_utc'], unit='s')"
   ]
  },
  {
   "cell_type": "code",
   "execution_count": 7,
   "id": "d29db362-7fed-4575-9808-a8206e2489ee",
   "metadata": {},
   "outputs": [],
   "source": [
    "twitter = twitter.set_index('id')\n",
    "reddit = reddit.set_index('id')"
   ]
  },
  {
   "cell_type": "code",
   "execution_count": 8,
   "id": "9bf87827-e84e-4229-8844-a7ad6f0bb9b4",
   "metadata": {},
   "outputs": [],
   "source": [
    "twitter = twitter.merge(twitter_sentiment, left_index=True, right_index=True)\n",
    "reddit = reddit.merge(reddit_sentiment, left_index=True, right_index=True)"
   ]
  },
  {
   "cell_type": "code",
   "execution_count": 9,
   "id": "73b43e39-5f3e-449d-8d8d-d8c62af2add5",
   "metadata": {},
   "outputs": [],
   "source": [
    "twitter_diagnosis_tweets = pd.read_csv(\\\n",
    "    join(src, 'twitter_user_diagnosis_dates.csv'), parse_dates=['created_at', 'created_at_date'])\n",
    "twitter_diagnosis_tweets = twitter_diagnosis_tweets[\\\n",
    "                twitter_diagnosis_tweets['author.username'].isin(twitter['author.username'].unique())]\n",
    "twitter_diagnosis_tweets = twitter_diagnosis_tweets.set_index('author.username')\n",
    "# convert to naive timezone (we are only interested in days, so the few hours\n",
    "# of error we can potentially make here are negligible)\n",
    "twitter_diagnosis_tweets['created_at'] = twitter_diagnosis_tweets['created_at'].dt.tz_localize(None)\n"
   ]
  },
  {
   "cell_type": "code",
   "execution_count": 10,
   "id": "5004ba8f-590f-413e-b661-70782fa330ab",
   "metadata": {},
   "outputs": [],
   "source": [
    "reddit_diagnosis_posts = pd.read_csv(join(src, 'reddit_user_diagnosis_dates.csv'),\n",
    "                        parse_dates=['created_dt'])\n",
    "reddit_diagnosis_posts = reddit_diagnosis_posts\\\n",
    "    .rename(columns={'created_dt':'created_at'})\\\n",
    "    .drop(columns=['created_utc'])\n",
    "reddit_diagnosis_posts = reddit_diagnosis_posts.set_index('author')\n",
    "\n",
    "# we only sample 175 random users from the reddit data\n",
    "reddit = reddit[reddit['author'].isin(reddit_diagnosis_posts.index)]"
   ]
  },
  {
   "cell_type": "code",
   "execution_count": 11,
   "id": "2a82b369-58bb-412a-93ee-5e0d2a26616e",
   "metadata": {},
   "outputs": [],
   "source": [
    "def calculate_diagnosis_time_difference_twitter(row):\n",
    "    username = row['author.username']\n",
    "    tweet_datetime = row['created_at']\n",
    "    diagnosis_datetime = twitter_diagnosis_tweets.loc[username]['created_at']\n",
    "    datetime_diff =  tweet_datetime - diagnosis_datetime\n",
    "\n",
    "    return datetime_diff"
   ]
  },
  {
   "cell_type": "code",
   "execution_count": 12,
   "id": "c965af82-3e6a-445d-8503-33a516c825ba",
   "metadata": {},
   "outputs": [],
   "source": [
    "def calculate_diagnosis_time_difference_reddit(row):\n",
    "    userID = row['author']\n",
    "    post_datetime = row['created_at']\n",
    "    diagnosis_datetime = reddit_diagnosis_posts.loc[userID]['created_at']\n",
    "    datetime_diff =  post_datetime - diagnosis_datetime\n",
    "\n",
    "    return datetime_diff"
   ]
  },
  {
   "cell_type": "code",
   "execution_count": 13,
   "id": "1b81d045-cdae-43c8-81ae-1c65fdf59a7a",
   "metadata": {},
   "outputs": [],
   "source": [
    "twitter['created_at'] = twitter['created_at'].dt.tz_localize(None)\n",
    "twitter['timediff_to_diagnosis'] = twitter[['author.username', 'created_at']]\\\n",
    "    .apply(calculate_diagnosis_time_difference_twitter, axis=1)\n",
    "twitter['timediff_to_diagnosis'] = twitter['timediff_to_diagnosis'].dt.days"
   ]
  },
  {
   "cell_type": "code",
   "execution_count": 14,
   "id": "9169f718-aeb2-4b65-8616-84b56f331849",
   "metadata": {},
   "outputs": [],
   "source": [
    "reddit['timediff_to_diagnosis'] = reddit[['author', 'created_at']]\\\n",
    "    .apply(calculate_diagnosis_time_difference_reddit, axis=1)\n",
    "reddit['timediff_to_diagnosis'] = reddit['timediff_to_diagnosis'].dt.days"
   ]
  },
  {
   "cell_type": "markdown",
   "id": "b2907ba6-091a-447c-862d-95037b445a43",
   "metadata": {},
   "source": [
    "## Polarity"
   ]
  },
  {
   "cell_type": "code",
   "execution_count": 15,
   "id": "750e2fe6-6ea0-4c7b-8363-11cf4101a523",
   "metadata": {},
   "outputs": [],
   "source": [
    "twitter_polarity = twitter[['timediff_to_diagnosis', 'sentiment_polarity']]\\\n",
    "    .groupby(['timediff_to_diagnosis'])\\\n",
    "    .agg('mean')\\\n",
    "    .rename(columns={'sentiment_polarity':'mean_sentiment_polarity'})\\\n",
    "    .reset_index()"
   ]
  },
  {
   "cell_type": "code",
   "execution_count": 16,
   "id": "1daa1f25-38f8-47ad-9903-c24f87c37b8f",
   "metadata": {},
   "outputs": [
    {
     "data": {
      "text/html": [
       "<div>\n",
       "<style scoped>\n",
       "    .dataframe tbody tr th:only-of-type {\n",
       "        vertical-align: middle;\n",
       "    }\n",
       "\n",
       "    .dataframe tbody tr th {\n",
       "        vertical-align: top;\n",
       "    }\n",
       "\n",
       "    .dataframe thead th {\n",
       "        text-align: right;\n",
       "    }\n",
       "</style>\n",
       "<table border=\"1\" class=\"dataframe\">\n",
       "  <thead>\n",
       "    <tr style=\"text-align: right;\">\n",
       "      <th></th>\n",
       "      <th>timediff_to_diagnosis</th>\n",
       "      <th>mean_sentiment_polarity</th>\n",
       "    </tr>\n",
       "  </thead>\n",
       "  <tbody>\n",
       "    <tr>\n",
       "      <th>0</th>\n",
       "      <td>-4080</td>\n",
       "      <td>0.00</td>\n",
       "    </tr>\n",
       "    <tr>\n",
       "      <th>1</th>\n",
       "      <td>-4078</td>\n",
       "      <td>0.00</td>\n",
       "    </tr>\n",
       "    <tr>\n",
       "      <th>2</th>\n",
       "      <td>-4069</td>\n",
       "      <td>0.00</td>\n",
       "    </tr>\n",
       "    <tr>\n",
       "      <th>3</th>\n",
       "      <td>-4068</td>\n",
       "      <td>0.35</td>\n",
       "    </tr>\n",
       "    <tr>\n",
       "      <th>4</th>\n",
       "      <td>-4067</td>\n",
       "      <td>0.20</td>\n",
       "    </tr>\n",
       "  </tbody>\n",
       "</table>\n",
       "</div>"
      ],
      "text/plain": [
       "   timediff_to_diagnosis  mean_sentiment_polarity\n",
       "0                  -4080                     0.00\n",
       "1                  -4078                     0.00\n",
       "2                  -4069                     0.00\n",
       "3                  -4068                     0.35\n",
       "4                  -4067                     0.20"
      ]
     },
     "execution_count": 16,
     "metadata": {},
     "output_type": "execute_result"
    }
   ],
   "source": [
    "twitter_polarity.head()"
   ]
  },
  {
   "cell_type": "code",
   "execution_count": 17,
   "id": "91ccf562-6a51-4656-9df9-dcab432f9709",
   "metadata": {},
   "outputs": [],
   "source": [
    "reddit_polarity = reddit[['timediff_to_diagnosis', 'sentiment_polarity']]\\\n",
    "    .groupby(['timediff_to_diagnosis'])\\\n",
    "    .agg('mean')\\\n",
    "    .rename(columns={'sentiment_polarity':'mean_sentiment_polarity'})\\\n",
    "    .reset_index()"
   ]
  },
  {
   "cell_type": "code",
   "execution_count": 18,
   "id": "25f76e32-8c8d-41cc-b5dd-df648d4f2ea5",
   "metadata": {},
   "outputs": [
    {
     "data": {
      "text/html": [
       "<div>\n",
       "<style scoped>\n",
       "    .dataframe tbody tr th:only-of-type {\n",
       "        vertical-align: middle;\n",
       "    }\n",
       "\n",
       "    .dataframe tbody tr th {\n",
       "        vertical-align: top;\n",
       "    }\n",
       "\n",
       "    .dataframe thead th {\n",
       "        text-align: right;\n",
       "    }\n",
       "</style>\n",
       "<table border=\"1\" class=\"dataframe\">\n",
       "  <thead>\n",
       "    <tr style=\"text-align: right;\">\n",
       "      <th></th>\n",
       "      <th>timediff_to_diagnosis</th>\n",
       "      <th>mean_sentiment_polarity</th>\n",
       "    </tr>\n",
       "  </thead>\n",
       "  <tbody>\n",
       "    <tr>\n",
       "      <th>0</th>\n",
       "      <td>-4124</td>\n",
       "      <td>-0.090774</td>\n",
       "    </tr>\n",
       "    <tr>\n",
       "      <th>1</th>\n",
       "      <td>-3921</td>\n",
       "      <td>0.663429</td>\n",
       "    </tr>\n",
       "    <tr>\n",
       "      <th>2</th>\n",
       "      <td>-3909</td>\n",
       "      <td>0.300000</td>\n",
       "    </tr>\n",
       "    <tr>\n",
       "      <th>3</th>\n",
       "      <td>-3897</td>\n",
       "      <td>-0.050000</td>\n",
       "    </tr>\n",
       "    <tr>\n",
       "      <th>4</th>\n",
       "      <td>-3896</td>\n",
       "      <td>-0.070370</td>\n",
       "    </tr>\n",
       "  </tbody>\n",
       "</table>\n",
       "</div>"
      ],
      "text/plain": [
       "   timediff_to_diagnosis  mean_sentiment_polarity\n",
       "0                  -4124                -0.090774\n",
       "1                  -3921                 0.663429\n",
       "2                  -3909                 0.300000\n",
       "3                  -3897                -0.050000\n",
       "4                  -3896                -0.070370"
      ]
     },
     "execution_count": 18,
     "metadata": {},
     "output_type": "execute_result"
    }
   ],
   "source": [
    "reddit_polarity.head()"
   ]
  },
  {
   "cell_type": "code",
   "execution_count": 26,
   "id": "70c4ebdd-819f-4c6e-9932-85787b9f2cd7",
   "metadata": {},
   "outputs": [
    {
     "data": {
      "image/png": "[encoded data removed]",
      "text/plain": [
       "<Figure size 864x432 with 1 Axes>"
      ]
     },
     "metadata": {
      "needs_background": "light"
     },
     "output_type": "display_data"
    }
   ],
   "source": [
    "fig, ax = plt.subplots(figsize=(12, 6))\n",
    "\n",
    "ymin = 0\n",
    "ymax = 0.2\n",
    "\n",
    "ax.plot(twitter_polarity['timediff_to_diagnosis'].rolling(30).mean(),\\\n",
    "        twitter_polarity['mean_sentiment_polarity'].rolling(30).mean(),\n",
    "        label='twitter', color='DarkBlue')\n",
    "\n",
    "ax.plot(reddit_polarity['timediff_to_diagnosis'].rolling(30).mean(),\\\n",
    "        reddit_polarity['mean_sentiment_polarity'].rolling(30).mean(),\n",
    "        label='reddit', color='orange')\n",
    "\n",
    "ax.plot([0, 0], [ymin, ymax], '--', color='r', )\n",
    "ax.text(-350, ymax - ymax*0.2, '\"diagnosis\"', color='r', fontsize=16)\n",
    "ax.set_xlabel('time difference to \"diagnosis\" [days]', fontsize=16)\n",
    "ax.set_ylabel('sentiment polarity', fontsize=16)\n",
    "ax.grid()\n",
    "ax.set_xlim(-2000, 500)\n",
    "ax.set_ylim(ymin, ymax)\n",
    "ax.legend(fontsize=16)\n",
    "ax.set_title('Sentiment polarity', fontsize=20)\n",
    "\n",
    "fig.tight_layout()\n",
    "plt.savefig('../plots/diagnosis_centered_sentiment_polarity.pdf')\n",
    "plt.savefig('../plots/diagnosis_centered_sentiment_polarity.png', dpi=300)"
   ]
  },
  {
   "cell_type": "markdown",
   "id": "63181bcc-82d6-4d6c-8ffe-7f0dffe51696",
   "metadata": {},
   "source": [
    "## Subjectivity"
   ]
  },
  {
   "cell_type": "code",
   "execution_count": 20,
   "id": "7cab7ca0-bb0d-4ccb-9356-e33ecfd11d6c",
   "metadata": {},
   "outputs": [],
   "source": [
    "twitter_subjectivity = twitter[['timediff_to_diagnosis', 'sentiment_subjectivity']]\\\n",
    "    .groupby(['timediff_to_diagnosis'])\\\n",
    "    .agg('mean')\\\n",
    "    .rename(columns={'sentiment_subjectivity':'mean_sentiment_subjectivity'})\\\n",
    "    .reset_index()"
   ]
  },
  {
   "cell_type": "code",
   "execution_count": 21,
   "id": "7f8d76dc-df1d-4f4b-b23b-0318b8b1217e",
   "metadata": {},
   "outputs": [
    {
     "data": {
      "text/html": [
       "<div>\n",
       "<style scoped>\n",
       "    .dataframe tbody tr th:only-of-type {\n",
       "        vertical-align: middle;\n",
       "    }\n",
       "\n",
       "    .dataframe tbody tr th {\n",
       "        vertical-align: top;\n",
       "    }\n",
       "\n",
       "    .dataframe thead th {\n",
       "        text-align: right;\n",
       "    }\n",
       "</style>\n",
       "<table border=\"1\" class=\"dataframe\">\n",
       "  <thead>\n",
       "    <tr style=\"text-align: right;\">\n",
       "      <th></th>\n",
       "      <th>timediff_to_diagnosis</th>\n",
       "      <th>mean_sentiment_subjectivity</th>\n",
       "    </tr>\n",
       "  </thead>\n",
       "  <tbody>\n",
       "    <tr>\n",
       "      <th>0</th>\n",
       "      <td>-4080</td>\n",
       "      <td>0.00</td>\n",
       "    </tr>\n",
       "    <tr>\n",
       "      <th>1</th>\n",
       "      <td>-4078</td>\n",
       "      <td>0.00</td>\n",
       "    </tr>\n",
       "    <tr>\n",
       "      <th>2</th>\n",
       "      <td>-4069</td>\n",
       "      <td>0.00</td>\n",
       "    </tr>\n",
       "    <tr>\n",
       "      <th>3</th>\n",
       "      <td>-4068</td>\n",
       "      <td>0.65</td>\n",
       "    </tr>\n",
       "    <tr>\n",
       "      <th>4</th>\n",
       "      <td>-4067</td>\n",
       "      <td>0.50</td>\n",
       "    </tr>\n",
       "  </tbody>\n",
       "</table>\n",
       "</div>"
      ],
      "text/plain": [
       "   timediff_to_diagnosis  mean_sentiment_subjectivity\n",
       "0                  -4080                         0.00\n",
       "1                  -4078                         0.00\n",
       "2                  -4069                         0.00\n",
       "3                  -4068                         0.65\n",
       "4                  -4067                         0.50"
      ]
     },
     "execution_count": 21,
     "metadata": {},
     "output_type": "execute_result"
    }
   ],
   "source": [
    "twitter_subjectivity.head()"
   ]
  },
  {
   "cell_type": "code",
   "execution_count": 22,
   "id": "fd5052d2-092e-4468-a738-240eca79980d",
   "metadata": {},
   "outputs": [],
   "source": [
    "reddit_subjectivity = reddit[['timediff_to_diagnosis', 'sentiment_subjectivity']]\\\n",
    "    .groupby(['timediff_to_diagnosis'])\\\n",
    "    .agg('mean')\\\n",
    "    .rename(columns={'sentiment_subjectivity':'mean_sentiment_subjectivity'})\\\n",
    "    .reset_index()"
   ]
  },
  {
   "cell_type": "code",
   "execution_count": 23,
   "id": "da7bfded-4c05-419a-8393-c2263f92362a",
   "metadata": {},
   "outputs": [
    {
     "data": {
      "text/html": [
       "<div>\n",
       "<style scoped>\n",
       "    .dataframe tbody tr th:only-of-type {\n",
       "        vertical-align: middle;\n",
       "    }\n",
       "\n",
       "    .dataframe tbody tr th {\n",
       "        vertical-align: top;\n",
       "    }\n",
       "\n",
       "    .dataframe thead th {\n",
       "        text-align: right;\n",
       "    }\n",
       "</style>\n",
       "<table border=\"1\" class=\"dataframe\">\n",
       "  <thead>\n",
       "    <tr style=\"text-align: right;\">\n",
       "      <th></th>\n",
       "      <th>timediff_to_diagnosis</th>\n",
       "      <th>mean_sentiment_subjectivity</th>\n",
       "    </tr>\n",
       "  </thead>\n",
       "  <tbody>\n",
       "    <tr>\n",
       "      <th>0</th>\n",
       "      <td>-4124</td>\n",
       "      <td>0.278274</td>\n",
       "    </tr>\n",
       "    <tr>\n",
       "      <th>1</th>\n",
       "      <td>-3921</td>\n",
       "      <td>0.522286</td>\n",
       "    </tr>\n",
       "    <tr>\n",
       "      <th>2</th>\n",
       "      <td>-3909</td>\n",
       "      <td>0.729630</td>\n",
       "    </tr>\n",
       "    <tr>\n",
       "      <th>3</th>\n",
       "      <td>-3897</td>\n",
       "      <td>0.600000</td>\n",
       "    </tr>\n",
       "    <tr>\n",
       "      <th>4</th>\n",
       "      <td>-3896</td>\n",
       "      <td>0.751852</td>\n",
       "    </tr>\n",
       "  </tbody>\n",
       "</table>\n",
       "</div>"
      ],
      "text/plain": [
       "   timediff_to_diagnosis  mean_sentiment_subjectivity\n",
       "0                  -4124                     0.278274\n",
       "1                  -3921                     0.522286\n",
       "2                  -3909                     0.729630\n",
       "3                  -3897                     0.600000\n",
       "4                  -3896                     0.751852"
      ]
     },
     "execution_count": 23,
     "metadata": {},
     "output_type": "execute_result"
    }
   ],
   "source": [
    "reddit_subjectivity.head()"
   ]
  },
  {
   "cell_type": "code",
   "execution_count": 25,
   "id": "a95f99d2-99d8-48a9-b6ef-c78c36c59784",
   "metadata": {},
   "outputs": [
    {
     "data": {
      "image/png": "[encoded data removed]",
      "text/plain": [
       "<Figure size 864x432 with 1 Axes>"
      ]
     },
     "metadata": {
      "needs_background": "light"
     },
     "output_type": "display_data"
    }
   ],
   "source": [
    "fig, ax = plt.subplots(figsize=(12, 6))\n",
    "\n",
    "ymin = 0.2\n",
    "ymax = 0.5\n",
    "\n",
    "ax.plot(twitter_subjectivity['timediff_to_diagnosis'].rolling(30).mean(),\\\n",
    "        twitter_subjectivity['mean_sentiment_subjectivity'].rolling(30).mean(),\n",
    "        label='twitter', color='DarkBlue')\n",
    "\n",
    "ax.plot(reddit_subjectivity['timediff_to_diagnosis'].rolling(30).mean(),\\\n",
    "        reddit_subjectivity['mean_sentiment_subjectivity'].rolling(30).mean(),\n",
    "        label='reddit', color='orange')\n",
    "\n",
    "ax.plot([0, 0], [ymin, ymax], '--', color='r', )\n",
    "ax.text(-320, ymax - ymax*0.1, '\"diagnosis\"', color='r', fontsize=16)\n",
    "ax.set_xlabel('time difference to \"diagnosis\" [days]', fontsize=16)\n",
    "ax.set_ylabel('sentiment subjectivity', fontsize=16)\n",
    "ax.grid()\n",
    "ax.set_xlim(-2000, 500)\n",
    "ax.set_ylim(ymin, ymax)\n",
    "ax.legend(fontsize=16, loc=3)\n",
    "ax.set_title('Sentiment subjectivity', fontsize=20)\n",
    "\n",
    "fig.tight_layout()\n",
    "plt.savefig('../plots/diagnosis_centered_sentiment_subjectivity.pdf')\n",
    "plt.savefig('../plots/diagnosis_centered_sentiment_subjectivity.png', dpi=300)"
   ]
  },
  {
   "cell_type": "markdown",
   "id": "7d1c33c2-6f0a-4af0-894c-ffcac4497809",
   "metadata": {},
   "source": [
    "## Descriptive statistics"
   ]
  },
  {
   "cell_type": "code",
   "execution_count": 34,
   "id": "c645d2cd-4f96-40e2-9332-3e21b55cebc1",
   "metadata": {},
   "outputs": [],
   "source": [
    "twitter = twitter.dropna(subset=['text'])"
   ]
  },
  {
   "cell_type": "code",
   "execution_count": 35,
   "id": "71cefe6b-eea8-40dd-9163-d7b4f6c17cd1",
   "metadata": {},
   "outputs": [
    {
     "data": {
      "text/plain": [
       "298744"
      ]
     },
     "execution_count": 35,
     "metadata": {},
     "output_type": "execute_result"
    }
   ],
   "source": [
    "len(reddit)"
   ]
  },
  {
   "cell_type": "code",
   "execution_count": 36,
   "id": "13efc3c7-d906-48b0-bbc4-b80b1977e737",
   "metadata": {},
   "outputs": [
    {
     "data": {
      "text/plain": [
       "1298624"
      ]
     },
     "execution_count": 36,
     "metadata": {},
     "output_type": "execute_result"
    }
   ],
   "source": [
    "len(twitter)"
   ]
  },
  {
   "cell_type": "code",
   "execution_count": 37,
   "id": "a40c2503-e506-403a-9113-ab9a4b8c364e",
   "metadata": {},
   "outputs": [
    {
     "data": {
      "text/plain": [
       "175"
      ]
     },
     "execution_count": 37,
     "metadata": {},
     "output_type": "execute_result"
    }
   ],
   "source": [
    "len(reddit['author'].unique())"
   ]
  },
  {
   "cell_type": "code",
   "execution_count": 38,
   "id": "c764e01b-67b1-4c92-b91c-0a236b389d82",
   "metadata": {},
   "outputs": [
    {
     "data": {
      "text/plain": [
       "103"
      ]
     },
     "execution_count": 38,
     "metadata": {},
     "output_type": "execute_result"
    }
   ],
   "source": [
    "len(twitter['author.username'].unique())"
   ]
  },
  {
   "cell_type": "code",
   "execution_count": 39,
   "id": "af078461-9cc9-4b86-8abb-673b214ea589",
   "metadata": {},
   "outputs": [],
   "source": [
    "reddit['text_length'] = reddit['body'].apply(lambda x: len(x))\n",
    "twitter['text_length'] = twitter['text'].apply(lambda x: len(x))"
   ]
  },
  {
   "cell_type": "code",
   "execution_count": 41,
   "id": "1bb00b34-d995-4f10-a9ee-e3be864d63a4",
   "metadata": {},
   "outputs": [
    {
     "data": {
      "text/plain": [
       "86.0051138743778"
      ]
     },
     "execution_count": 41,
     "metadata": {},
     "output_type": "execute_result"
    }
   ],
   "source": [
    "twitter['text_length'].mean()"
   ]
  },
  {
   "cell_type": "code",
   "execution_count": 42,
   "id": "ca2c80eb-e090-45f0-b004-726aabbd99bc",
   "metadata": {},
   "outputs": [
    {
     "data": {
      "text/plain": [
       "52.61091400906865"
      ]
     },
     "execution_count": 42,
     "metadata": {},
     "output_type": "execute_result"
    }
   ],
   "source": [
    "twitter['text_length'].std()"
   ]
  },
  {
   "cell_type": "code",
   "execution_count": 43,
   "id": "3703b35a-b9c0-4206-bf04-d6ca0bd7f8fc",
   "metadata": {},
   "outputs": [
    {
     "data": {
      "text/plain": [
       "204.40461733122675"
      ]
     },
     "execution_count": 43,
     "metadata": {},
     "output_type": "execute_result"
    }
   ],
   "source": [
    "reddit['text_length'].mean()"
   ]
  },
  {
   "cell_type": "code",
   "execution_count": 44,
   "id": "197010aa-9ba7-4958-af19-ac33e37fb29c",
   "metadata": {},
   "outputs": [
    {
     "data": {
      "text/plain": [
       "395.8024214977647"
      ]
     },
     "execution_count": 44,
     "metadata": {},
     "output_type": "execute_result"
    }
   ],
   "source": [
    "reddit['text_length'].std()"
   ]
  },
  {
   "cell_type": "code",
   "execution_count": 47,
   "id": "3bd4172b-33a9-41a4-ace6-23d2b9a3169f",
   "metadata": {},
   "outputs": [],
   "source": [
    "twitter_timeline_length = twitter[['author.username', 'created_at']]\\\n",
    "    .groupby('author.username')\\\n",
    "    .agg(['min', 'max'])\\\n",
    "    .reset_index()\n",
    "\n",
    "twitter_timeline_length['timeline_length'] = \\\n",
    "    (twitter_timeline_length['created_at']['max'] - \\\n",
    "    twitter_timeline_length['created_at']['min']).dt.days / 365"
   ]
  },
  {
   "cell_type": "code",
   "execution_count": 57,
   "id": "3b69e793-0bda-48e4-9495-0beb247b359c",
   "metadata": {},
   "outputs": [
    {
     "data": {
      "text/plain": [
       "8.040909695438224"
      ]
     },
     "execution_count": 57,
     "metadata": {},
     "output_type": "execute_result"
    }
   ],
   "source": [
    "twitter_timeline_length['timeline_length'].mean()"
   ]
  },
  {
   "cell_type": "code",
   "execution_count": 58,
   "id": "be857f34-1f21-42ee-8a05-622ed4e9ad49",
   "metadata": {},
   "outputs": [
    {
     "data": {
      "text/plain": [
       "3.511622378405742"
      ]
     },
     "execution_count": 58,
     "metadata": {},
     "output_type": "execute_result"
    }
   ],
   "source": [
    "twitter_timeline_length['timeline_length'].std()"
   ]
  },
  {
   "cell_type": "code",
   "execution_count": 59,
   "id": "cb210695-70d0-482c-ba72-96ec84b7a2e1",
   "metadata": {},
   "outputs": [],
   "source": [
    "reddit_timeline_length = reddit[['author', 'created_at']]\\\n",
    "    .groupby('author')\\\n",
    "    .agg(['min', 'max'])\\\n",
    "    .reset_index()\n",
    "\n",
    "reddit_timeline_length['timeline_length'] = \\\n",
    "    (reddit_timeline_length['created_at']['max'] - \\\n",
    "    reddit_timeline_length['created_at']['min']).dt.days / 365"
   ]
  },
  {
   "cell_type": "code",
   "execution_count": 60,
   "id": "16c1f4eb-c649-461c-8718-c085009658cd",
   "metadata": {},
   "outputs": [
    {
     "data": {
      "text/plain": [
       "3.449722113502935"
      ]
     },
     "execution_count": 60,
     "metadata": {},
     "output_type": "execute_result"
    }
   ],
   "source": [
    "reddit_timeline_length['timeline_length'].mean()"
   ]
  },
  {
   "cell_type": "code",
   "execution_count": 61,
   "id": "483e6b45-9783-4169-95a3-c38f8a86069c",
   "metadata": {},
   "outputs": [
    {
     "data": {
      "text/plain": [
       "3.054720580074654"
      ]
     },
     "execution_count": 61,
     "metadata": {},
     "output_type": "execute_result"
    }
   ],
   "source": [
    "reddit_timeline_length['timeline_length'].std()"
   ]
  }
 ],
 "metadata": {
  "kernelspec": {
   "display_name": "Python 3",
   "language": "python",
   "name": "python3"
  },
  "language_info": {
   "codemirror_mode": {
    "name": "ipython",
    "version": 3
   },
   "file_extension": ".py",
   "mimetype": "text/x-python",
   "name": "python",
   "nbconvert_exporter": "python",
   "pygments_lexer": "ipython3",
   "version": "3.9.5"
  }
 },
 "nbformat": 4,
 "nbformat_minor": 5
}
