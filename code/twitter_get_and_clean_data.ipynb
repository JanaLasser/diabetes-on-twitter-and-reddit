{
 "cells": [
  {
   "cell_type": "markdown",
   "id": "33780cbd-790e-41c1-991e-64c91ecf72db",
   "metadata": {},
   "source": [
    "# Diabetes on Twitter"
   ]
  },
  {
   "cell_type": "code",
   "execution_count": 3,
   "id": "2dbabd35-f898-4cad-bf8f-0b634348a3eb",
   "metadata": {},
   "outputs": [],
   "source": [
    "import pandas as pd\n",
    "from os.path import join\n",
    "import numpy as np\n",
    "import os"
   ]
  },
  {
   "cell_type": "markdown",
   "id": "e5c2d3c4-79be-4970-8932-064248570b9d",
   "metadata": {},
   "source": [
    "## Tweets from users that were just diagnosed with diabetes"
   ]
  },
  {
   "cell_type": "markdown",
   "id": "a3417825-e758-47d6-bfc5-e37f7bf07ea7",
   "metadata": {},
   "source": [
    "### Query tweets from the Twitter v2 API"
   ]
  },
  {
   "cell_type": "markdown",
   "id": "db403986-4f2e-49fc-b09d-e0858cc1814c",
   "metadata": {},
   "source": [
    "Search terms:  \n",
    "* \"I was just diagnosed with diabetes\"\n",
    "* \"today I was diagnosed with diabetes\"\n",
    "* \"I just learned I have diabetes\"\n",
    "* \"learned I got diabetes\"\n",
    "* \"heard I got diabetes\" \n",
    "* \"learned I have diabetes\"\n",
    "* \"heard I have diabetes\"\n",
    "* \"I was recently diagnosed with diabetes\"\n",
    "* \"I recently learned I have diabetes\"\n",
    "* \"I recently learned that I have diabetes\""
   ]
  },
  {
   "cell_type": "code",
   "execution_count": null,
   "id": "46202f58-f218-496c-9bd2-a647078ddffd",
   "metadata": {},
   "outputs": [],
   "source": [
    "# query data from Twitter API\n",
    "! chmod +x queries/diagnosed_diabetes.sh\n",
    "! ./queries/diagnosed_diabetes.sh"
   ]
  },
  {
   "cell_type": "code",
   "execution_count": null,
   "id": "01600e2b-182a-424f-850d-1fc45942fcd3",
   "metadata": {},
   "outputs": [],
   "source": [
    "# convert line JSON file to flat csv\n",
    "! twarc2 csv --no-inline-referenced-tweets --show-stats  ../data/diagnosed_diabetes.jsonl ../data/diagnosed_diabetes.csv"
   ]
  },
  {
   "cell_type": "code",
   "execution_count": null,
   "id": "70f014ac-d51a-4bbf-9391-63bfeeac6b9d",
   "metadata": {},
   "outputs": [],
   "source": [
    "# convert line JSON file to flat csv\n",
    "! twarc2 csv --no-inline-referenced-tweets --show-stats  ../data/diagnosed_diabetes.jsonl ../data/diagnosed_diabetes.csv"
   ]
  },
  {
   "cell_type": "markdown",
   "id": "723c62f9-de9b-4cbf-8593-2c266184f2b7",
   "metadata": {},
   "source": [
    "### Clean the data"
   ]
  },
  {
   "cell_type": "code",
   "execution_count": 1,
   "id": "3fae5810-b19e-4644-9eca-2cc374d72899",
   "metadata": {},
   "outputs": [],
   "source": [
    "src = '../data'"
   ]
  },
  {
   "cell_type": "code",
   "execution_count": 4,
   "id": "58563546-ef86-4468-83b9-b7fdc7651bde",
   "metadata": {},
   "outputs": [],
   "source": [
    "data = pd.read_csv(join(src, 'diagnosed_diabetes.csv'), parse_dates=['created_at', 'author.created_at'])\n",
    "data = data.drop(columns=['__twarc.retrieved_at', '__twarc.url', '__twarc.version',\n",
    "        'attachments.poll.duration_minutes', 'attachments.poll.end_datetime',\n",
    "        'attachments.poll.id', 'attachments.poll.options',\n",
    "        'attachments.poll.voting_status', 'attachments.poll_ids',\n",
    "        'author.entities.description.cashtags','author.pinned_tweet_id',\n",
    "        'author.profile_image_url', 'author.protected','in_reply_to_user.description',\n",
    "       'in_reply_to_user.entities.description.cashtags', 'in_reply_to_user.created_at',\n",
    "       'in_reply_to_user.entities.description.hashtags',\n",
    "       'in_reply_to_user.entities.description.mentions',\n",
    "       'in_reply_to_user.entities.description.urls',\n",
    "       'in_reply_to_user.entities.url.urls', 'in_reply_to_user.id',\n",
    "       'in_reply_to_user.location', 'in_reply_to_user.name',\n",
    "       'in_reply_to_user.pinned_tweet_id',\n",
    "       'in_reply_to_user.profile_image_url', 'in_reply_to_user.protected',\n",
    "       'in_reply_to_user.public_metrics.followers_count',\n",
    "       'in_reply_to_user.public_metrics.following_count',\n",
    "       'in_reply_to_user.public_metrics.listed_count',\n",
    "       'in_reply_to_user.public_metrics.tweet_count', 'in_reply_to_user.url',\n",
    "       'in_reply_to_user.username', 'in_reply_to_user.verified',\n",
    "       'in_reply_to_user.withheld.country_codes', 'in_reply_to_user_id',\n",
    "       'withheld.scope', 'withheld.copyright', 'withheld.country_codes',\n",
    "       'reply_settings','attachments.media_keys','author.verified',\n",
    "       'geo.coordinates.coordinates', 'geo.coordinates.type',\n",
    "       'geo.country', 'geo.country_code', 'geo.full_name', 'geo.geo.bbox',\n",
    "       'geo.geo.type', 'geo.id', 'geo.name', 'geo.place_id', 'geo.place_type',\n",
    "       'entities.cashtags', 'possibly_sensitive', 'type',\n",
    "       'author.withheld.country_codes','author.entities.description.hashtags',\n",
    "       'author.entities.description.mentions', 'source',\n",
    "       'author.entities.description.urls', 'author.entities.url.urls'])"
   ]
  },
  {
   "cell_type": "code",
   "execution_count": 5,
   "id": "b8313be0-b67a-468c-8c5e-6afa8ed11bed",
   "metadata": {},
   "outputs": [
    {
     "name": "stdout",
     "output_type": "stream",
     "text": [
      "315 tweets from past diabetes diagnoses\n",
      "224 tweets from recent diabetes diagnoses\n"
     ]
    }
   ],
   "source": [
    "# We just want original tweets, so we remove all referenced tweets\n",
    "data = data[data['referenced_tweets'].isna()].reset_index(drop=True)\n",
    "# many users post about a diagnosis anniversary, remove these tweets as well\n",
    "data['recent'] = data['text'].apply(lambda x: ('years ago' not in x) and \\\n",
    "                                              ('yrs ago' not in x) and \\\n",
    "                                              ('year ago' not in x) and \\\n",
    "                                              ('YEARS AGO' not in x) and \\\n",
    "                                              ('years today' not in x) and \\\n",
    "                                              ('flashback') not in x)\n",
    "\n",
    "\n",
    "past = data[data['recent'] == False].copy()\n",
    "recent = data[data['recent'] == True].copy()\n",
    "print('{} tweets from past diabetes diagnoses'.format(len(past)))\n",
    "print('{} tweets from recent diabetes diagnoses'.format(len(recent)))"
   ]
  },
  {
   "cell_type": "code",
   "execution_count": 6,
   "id": "77ae533b-4d90-41b5-9b7d-5b46659628d9",
   "metadata": {},
   "outputs": [],
   "source": [
    "recent.to_csv(join(src, 'diagnosed_diabetes_clean.csv'), index=False)\n",
    "recent['id'].to_csv(join(src, 'diagnosed_diabetes_clean_IDs.csv'), index=False)\n",
    "np.savetxt(join(src, 'diagnosed_user_IDs.txt'), recent['author.id'].unique(),\n",
    "           fmt='%d')\n",
    "np.savetxt(join(src, 'diagnosed_user_names.txt'), recent['author.username'].unique(),\n",
    "           fmt='%s')"
   ]
  },
  {
   "cell_type": "markdown",
   "id": "004bfb0b-04bd-41b6-b42b-8d4f8a2f1d80",
   "metadata": {},
   "source": [
    "## User profiles"
   ]
  },
  {
   "cell_type": "markdown",
   "id": "6af43e3b-5ae3-4c75-85a5-d5877843458c",
   "metadata": {},
   "source": [
    "### Query user timelines from the Twitter v2 API"
   ]
  },
  {
   "cell_type": "code",
   "execution_count": null,
   "id": "849b10ba-ec66-4bb3-ae9e-912cadd2de7a",
   "metadata": {},
   "outputs": [],
   "source": [
    "# excludes replies and retweets\n",
    "! chmod -x /queries/diagnosed_user_timelines.sh\n",
    "! ./diagnosed_user_timelines.sh"
   ]
  },
  {
   "cell_type": "markdown",
   "id": "49085f80-9a4b-408a-863a-2dfac9ba2629",
   "metadata": {},
   "source": [
    "### Convert jsons to csv"
   ]
  },
  {
   "cell_type": "code",
   "execution_count": 36,
   "id": "2fdd3b67-25c3-4621-bed8-f6fbeaf28174",
   "metadata": {},
   "outputs": [],
   "source": [
    "! cat ../data/diagnosed_user_IDs_161_to_175.txt | xargs -i sh -c \"twarc2 csv --no-inline-referenced-tweets --show-stats ../data/user_timelines/{}.jsonl > ../data/user_timelines_csv/{}.csv\""
   ]
  },
  {
   "cell_type": "code",
   "execution_count": 7,
   "id": "e894d89f-474e-4806-8736-513f086654fc",
   "metadata": {},
   "outputs": [],
   "source": [
    "# columns of interest that we want to keep\n",
    "cols = [\n",
    "'author.created_at', 'author.description', 'author.id', 'author.location',\n",
    "'author.name', 'author.pinned_tweet_id','author.public_metrics.followers_count',\n",
    "'author.public_metrics.following_count','author.public_metrics.listed_count',\n",
    "'author.public_metrics.tweet_count', 'author.url', 'author.username',\n",
    "'context_annotations', 'conversation_id', 'created_at', 'entities.annotations',\n",
    "'entities.cashtags', 'entities.hashtags', 'id', 'lang', 'possibly_sensitive',\n",
    "'public_metrics.like_count','public_metrics.quote_count',\n",
    "'public_metrics.reply_count','public_metrics.retweet_count','referenced_tweets',\n",
    "'text'\n",
    "]"
   ]
  },
  {
   "cell_type": "code",
   "execution_count": 8,
   "id": "b8b078ea-f541-4c38-8577-10df3250c830",
   "metadata": {},
   "outputs": [],
   "source": [
    "userfiles = os.listdir(join(src, 'user_timelines_csv'))"
   ]
  },
  {
   "cell_type": "code",
   "execution_count": null,
   "id": "d0f2c0a3-ff22-450e-924f-fa8a1f3a8983",
   "metadata": {
    "tags": []
   },
   "outputs": [],
   "source": [
    "userfiles = os.listdir(join(src, 'user_timelines_csv'))\n",
    "user_timelines = pd.DataFrame()\n",
    "for i, f in enumerate(userfiles):\n",
    "    print(i)\n",
    "    user_ID = int(f.split('.')[0])\n",
    "    tmp = pd.read_csv(join(src, 'user_timelines_csv', f), low_memory=False,\n",
    "                      usecols=cols)\n",
    "    tmp['user_ID'] = user_ID\n",
    "    user_timelines = pd.concat([user_timelines, tmp])"
   ]
  },
  {
   "cell_type": "code",
   "execution_count": 45,
   "id": "dbb45897-47f8-48cc-b7dc-c528b41aa62d",
   "metadata": {},
   "outputs": [],
   "source": [
    "user_timelines.to_csv(join(src, 'twitter_user_timelines.csv'), index=False)\n",
    "user_timelines['id'].to_csv(join(src, 'twitter_user_timelines_IDs.csv'), index=False)"
   ]
  }
 ],
 "metadata": {
  "kernelspec": {
   "display_name": "Python 3",
   "language": "python",
   "name": "python3"
  },
  "language_info": {
   "codemirror_mode": {
    "name": "ipython",
    "version": 3
   },
   "file_extension": ".py",
   "mimetype": "text/x-python",
   "name": "python",
   "nbconvert_exporter": "python",
   "pygments_lexer": "ipython3",
   "version": "3.9.5"
  }
 },
 "nbformat": 4,
 "nbformat_minor": 5
}
